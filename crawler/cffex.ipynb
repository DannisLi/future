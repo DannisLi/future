{
 "cells": [
  {
   "cell_type": "code",
   "execution_count": 1,
   "metadata": {
    "ExecuteTime": {
     "end_time": "2018-01-10T10:53:45.547040Z",
     "start_time": "2018-01-10T10:53:45.107326Z"
    }
   },
   "outputs": [],
   "source": [
    "import datetime\n",
    "import requests\n",
    "import pymysql\n",
    "import xml.etree.ElementTree as ET"
   ]
  },
  {
   "cell_type": "code",
   "execution_count": 2,
   "metadata": {
    "ExecuteTime": {
     "end_time": "2018-01-10T11:01:04.760341Z",
     "start_time": "2018-01-10T10:55:12.604552Z"
    }
   },
   "outputs": [],
   "source": [
    "day = datetime.date(2015,8,8)\n",
    "end = datetime.date(2017,12,31)\n",
    "delta = datetime.timedelta(1)\n",
    "_url = 'http://www.cffex.com.cn/sj/hqsj/rtj/{0}/{1}/index.xml'\n",
    "conn = pymysql.connect(\n",
    "    host=\"219.224.169.45\", \n",
    "    user=\"lizimeng\", \n",
    "    password=\"codegeass\", \n",
    "    db=\"market\"\n",
    ")\n",
    "cursor = conn.cursor()\n",
    "sql = \"insert into contract_daily values(\" + \"%s,\"*10 + \"%s)\"\n",
    "while day<=end:\n",
    "    # 确定url\n",
    "    url = _url.format(day.strftime('%Y%m'), day.strftime('%d'))\n",
    "    # 获取xml文件\n",
    "    r = requests.get(url)\n",
    "    # 判断是否真的获取了数据\n",
    "    if r.url != url:\n",
    "        day += delta\n",
    "        continue\n",
    "    # 解析xml & 写入文件\n",
    "    root = ET.fromstring(r.text)\n",
    "    data = []\n",
    "    for child in root:\n",
    "        vari = child[12].text.strip().lower()\n",
    "        deli = child[0].text.strip()[-4:]\n",
    "        close = float(child[5].text)\n",
    "        oi = float(child[6].text)\n",
    "        settle = float(child[9].text)\n",
    "        volume = int(child[10].text)\n",
    "        turnover = float(child[11].text)\n",
    "        if child[2].text!=None:\n",
    "            _open = float(child[2].text)\n",
    "            high = float(child[3].text)\n",
    "            low = float(child[4].text)\n",
    "        else:\n",
    "            _open = None\n",
    "            high = None\n",
    "            low = None\n",
    "        cursor.execute(sql, (day,vari,deli,_open,high,low,close,settle,volume,oi,turnover))\n",
    "    conn.commit()\n",
    "    day += delta"
   ]
  },
  {
   "cell_type": "code",
   "execution_count": null,
   "metadata": {},
   "outputs": [],
   "source": []
  }
 ],
 "metadata": {
  "kernelspec": {
   "display_name": "Python 3",
   "language": "python",
   "name": "python3"
  },
  "language_info": {
   "codemirror_mode": {
    "name": "ipython",
    "version": 3
   },
   "file_extension": ".py",
   "mimetype": "text/x-python",
   "name": "python",
   "nbconvert_exporter": "python",
   "pygments_lexer": "ipython3",
   "version": "3.6.4"
  }
 },
 "nbformat": 4,
 "nbformat_minor": 2
}
