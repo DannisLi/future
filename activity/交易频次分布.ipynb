{
 "cells": [
  {
   "cell_type": "code",
   "execution_count": 1,
   "metadata": {
    "ExecuteTime": {
     "end_time": "2018-01-08T12:38:08.926186Z",
     "start_time": "2018-01-08T12:33:32.668385Z"
    }
   },
   "outputs": [],
   "source": [
    "import pymysql\n",
    "# 连接数据库\n",
    "conn = pymysql.connect(host='219.224.169.45', user='lizimeng', password='codegeass', db='investor')\n",
    "cursor = conn.cursor()\n",
    "# 查询2014年各用户交易次数\n",
    "cursor.execute(\"select count(*) from chengjiao where date_format(tradedate,'%Y')='2014' group by account\")\n",
    "times2014 = cursor.fetchall()\n",
    "times2014 = [x[0] for x in times2014]\n",
    "# 查询2015年各用户交易次数\n",
    "cursor.execute(\"select count(*) from chengjiao where date_format(tradedate,'%Y')='2015' group by account\")\n",
    "times2015 = cursor.fetchall()\n",
    "times2015 = [x[0] for x in times2015]\n",
    "# 查询2016年各用户交易次数\n",
    "cursor.execute(\"select count(*) from chengjiao where date_format(tradedate,'%Y')='2016' group by account\")\n",
    "times2016 = cursor.fetchall()\n",
    "times2016 = [x[0] for x in times2016]\n",
    "# 断开数据库\n",
    "cursor.close()\n",
    "conn.close()"
   ]
  },
  {
   "cell_type": "code",
   "execution_count": null,
   "metadata": {},
   "outputs": [],
   "source": [
    "width = 100\n",
    "bins2014 = max(times2014) / width + 1\n",
    "bins2015 = max(times2015) / width + 1\n",
    "bins2016 = max(times2016) / width + 1\n",
    "bins = max(bins2014, bins2015, bins2016)\n",
    "data2014 = [0] * bins\n",
    "data2015 = [0] * bins\n",
    "data2016 = [0] * bins\n",
    "for x in times2014:\n",
    "    data2014[x/width] += 1\n",
    "for x in times2015:\n",
    "    data2015[x/width] += 1\n",
    "for x in times2016:\n",
    "    data2016[x/width] += 1"
   ]
  },
  {
   "cell_type": "code",
   "execution_count": null,
   "metadata": {
    "scrolled": false
   },
   "outputs": [],
   "source": [
    "from pyecharts import Bar\n",
    "bar = Bar('用户交易频数')\n",
    "bar._width = 1000\n",
    "attr = ['%d~%d'%(width*i+1,width*(i+1)) for i in range(bins)]\n",
    "bar.add('2014年', attr[:50], data2014[:50], is_datazoom_show=True)\n",
    "bar.add('2015年', attr[:50], data2015[:50], is_datazoom_show=True)\n",
    "bar.add('2016年', attr[:50], data2016[:50], is_datazoom_show=True)\n",
    "bar"
   ]
  },
  {
   "cell_type": "markdown",
   "metadata": {},
   "source": [
    "# 幂律分布的概率密度函数\n",
    "$\\huge f(x) = \\frac{(a-1)}{x_{min}} * (\\frac{x}{x_{min}})^{-a} , x\\geq x_{min}>0 , a>1$\n",
    "\n",
    "# 参数的极大似然估计\n",
    "$\\huge \\hat{a} = 1 + n * (\\sum_{i=1}^{n}\\ln\\frac{x_i}{x_{min}})^{-1}$"
   ]
  },
  {
   "cell_type": "code",
   "execution_count": null,
   "metadata": {},
   "outputs": [],
   "source": [
    "# 使用极大似然估计计算参数\n",
    "import math\n",
    "\n",
    "alpha2014 = 0\n",
    "for x in times2014:\n",
    "    alpha2014 += math.log(x)\n",
    "alpha2014 = 1 + len(times2014) / alpha2014\n",
    "\n",
    "alpha2015 = 0\n",
    "for x in times2015:\n",
    "    alpha2015 += math.log(x)\n",
    "alpha2015 = 1 + len(times2015) / alpha2015\n",
    "\n",
    "alpha2016 = 0\n",
    "for x in times2016:\n",
    "    alpha2016 += math.log(x)\n",
    "alpha2016 = 1 + len(times2016) / alpha2016"
   ]
  },
  {
   "cell_type": "markdown",
   "metadata": {},
   "source": [
    "# 卡方检验\n",
    "$\\huge \\chi^2 = \\sum_{i=1}^{k}\\frac{(f_i-np_i)^2}{np_i}$\n",
    "\n",
    "# n充分大($n\\geq50$)时\n",
    "$\\huge \\chi^2\\sim\\chi^2(k-r-1)$"
   ]
  },
  {
   "cell_type": "code",
   "execution_count": null,
   "metadata": {},
   "outputs": [],
   "source": [
    "pro2014 = []\n",
    "pro2015 = []\n",
    "pro2016 = []\n",
    "for i in range(bins):\n",
    "    pro2014.append((i*width+1)**(1-alpha2014) - (i*width+width+1)**(1-alpha2014))\n",
    "    pro2015.append((i*width+1)**(1-alpha2015) - (i*width+width+1)**(1-alpha2015))\n",
    "    pro2016.append((i*width+1)**(1-alpha2016) - (i*width+width+1)**(1-alpha2016))\n",
    "\n",
    "chi2014 = 0\n",
    "chi2015 = 0\n",
    "chi2016 = 0\n",
    "for i in range(bins):\n",
    "    chi2014 += (data2014[i]-len(times2014)*pro2014[i])**2 / len(times2014) / pro2014[i]\n",
    "    chi2015 += (data2015[i]-len(times2015)*pro2015[i])**2 / len(times2015) / pro2015[i]\n",
    "    chi2016 += (data2016[i]-len(times2016)*pro2016[i])**2 / len(times2016) / pro2016[i]"
   ]
  },
  {
   "cell_type": "code",
   "execution_count": null,
   "metadata": {
    "scrolled": false
   },
   "outputs": [],
   "source": [
    "print chi2014, chi2015, chi2016"
   ]
  },
  {
   "cell_type": "code",
   "execution_count": null,
   "metadata": {},
   "outputs": [],
   "source": [
    "from scipy.stats import chisquare\n",
    "print chisquare(data2014, [x*len(times2014) for x in pro2014])\n",
    "print chisquare(data2015, [x*len(times2015) for x in pro2015])\n",
    "print chisquare(data2016, [x*len(times2016) for x in pro2016])"
   ]
  },
  {
   "cell_type": "code",
   "execution_count": null,
   "metadata": {},
   "outputs": [],
   "source": [
    "print alpha2014, alpha2015, alpha2016"
   ]
  },
  {
   "cell_type": "code",
   "execution_count": null,
   "metadata": {},
   "outputs": [],
   "source": []
  }
 ],
 "metadata": {
  "kernelspec": {
   "display_name": "Python 2",
   "language": "python",
   "name": "python2"
  },
  "language_info": {
   "codemirror_mode": {
    "name": "ipython",
    "version": 3
   },
   "file_extension": ".py",
   "mimetype": "text/x-python",
   "name": "python",
   "nbconvert_exporter": "python",
   "pygments_lexer": "ipython3",
   "version": "3.6.4"
  },
  "toc": {
   "nav_menu": {},
   "number_sections": true,
   "sideBar": true,
   "skip_h1_title": false,
   "toc_cell": false,
   "toc_position": {},
   "toc_section_display": "block",
   "toc_window_display": false
  }
 },
 "nbformat": 4,
 "nbformat_minor": 2
}
